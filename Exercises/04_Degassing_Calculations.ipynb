{
 "cells": [
  {
   "cell_type": "markdown",
   "metadata": {},
   "source": [
    "# VESIcal at vVMSG 2022\n",
    "Simon Matthews (University of Iceland) & Penny Wieser (Oregon State University)\n",
    "\n",
    "## 04 - Degassing Path Calculations\n",
    "VESIcal can calculate the evolution of a magma's dissolved CO$_2$ and H$_2$O concentrations (and the accompanying vapour composition) during ascent towards the surface.\n",
    "\n",
    "First, import the required python libraries:"
   ]
  },
  {
   "cell_type": "code",
   "execution_count": null,
   "metadata": {},
   "outputs": [],
   "source": [
    "# NumPy provides tools for doing numerical calculations\n",
    "import numpy as np\n",
    "\n",
    "# VESIcal provides the tools for performing volatile solubility calculations\n",
    "import VESIcal as v\n",
    "\n",
    "# Matplotlib provides tools for plotting data and model results\n",
    "import matplotlib.pyplot as plt"
   ]
  },
  {
   "cell_type": "markdown",
   "metadata": {},
   "source": [
    "We need a magma composition to use again, we will use the Kilauea composition from an earlier exercise, but with an invented volatile budget:"
   ]
  },
  {
   "cell_type": "code",
   "execution_count": null,
   "metadata": {},
   "outputs": [],
   "source": [
    "kilauea = v.Sample({'SiO2':  48.42,\n",
    "                    'TiO2':   2.45,\n",
    "                    'Al2O3': 11.90,\n",
    "                    'Fe2O3':  0.00,\n",
    "                    'FeO':   11.33,\n",
    "                    'MgO':   12.51,\n",
    "                    'CaO':   10.02,\n",
    "                    'Na2O':   2.10,\n",
    "                    'K2O':    0.45,\n",
    "                    'P2O5':   0.30,\n",
    "                    'CO2':    0.50,\n",
    "                    'H2O':    1.00,\n",
    "                    })"
   ]
  },
  {
   "cell_type": "markdown",
   "metadata": {},
   "source": [
    "### Exercise 04.01 - Calculate some degassing paths\n",
    "We will use MagmaSat for the calculations, but feel free to try a different model.\n",
    "\n",
    "First we will do a calculation assuming a closed system:"
   ]
  },
  {
   "cell_type": "code",
   "execution_count": null,
   "metadata": {},
   "outputs": [],
   "source": [
    "calc = v.calculate_degassing_path(sample=kilauea, \n",
    "                                  temperature=1200.0, \n",
    "                                  fractionate_vapor=0) # Set closed system here"
   ]
  },
  {
   "cell_type": "markdown",
   "metadata": {},
   "source": [
    "Extract the result:"
   ]
  },
  {
   "cell_type": "code",
   "execution_count": null,
   "metadata": {},
   "outputs": [],
   "source": [
    "closedsys = calc.result"
   ]
  },
  {
   "cell_type": "markdown",
   "metadata": {},
   "source": [
    "View the results:"
   ]
  },
  {
   "cell_type": "code",
   "execution_count": null,
   "metadata": {},
   "outputs": [],
   "source": [
    "closedsys"
   ]
  },
  {
   "cell_type": "markdown",
   "metadata": {},
   "source": [
    "Now an open system calculation:"
   ]
  },
  {
   "cell_type": "code",
   "execution_count": null,
   "metadata": {},
   "outputs": [],
   "source": [
    "calc = v.calculate_degassing_path(sample=kilauea, \n",
    "                                  temperature=1200.0, \n",
    "                                  fractionate_vapor=1) # Set closed system here\n",
    "opensys = calc.result"
   ]
  },
  {
   "cell_type": "markdown",
   "metadata": {},
   "source": [
    "Now we can plot the two paths:"
   ]
  },
  {
   "cell_type": "code",
   "execution_count": null,
   "metadata": {},
   "outputs": [],
   "source": [
    "fig, ax = plt.subplots(dpi=100)\n",
    "\n",
    "ax.plot(closedsys.H2O_liq, closedsys.CO2_liq, label='Closed system')\n",
    "\n",
    "ax.plot(opensys.H2O_liq, opensys.CO2_liq, label='Open system')\n",
    "\n",
    "ax.legend()\n",
    "\n",
    "ax.set_xlabel(\"H$_2$O (wt%)\")\n",
    "ax.set_ylabel(\"CO$_2$ (wt%)\")\n",
    "\n",
    "plt.show()"
   ]
  },
  {
   "cell_type": "code",
   "execution_count": null,
   "metadata": {},
   "outputs": [],
   "source": []
  }
 ],
 "metadata": {
  "kernelspec": {
   "display_name": "Python 3",
   "language": "python",
   "name": "python3"
  },
  "language_info": {
   "codemirror_mode": {
    "name": "ipython",
    "version": 3
   },
   "file_extension": ".py",
   "mimetype": "text/x-python",
   "name": "python",
   "nbconvert_exporter": "python",
   "pygments_lexer": "ipython3",
   "version": "3.7.6"
  }
 },
 "nbformat": 4,
 "nbformat_minor": 4
}
