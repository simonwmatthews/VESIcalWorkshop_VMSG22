{
 "cells": [
  {
   "cell_type": "markdown",
   "metadata": {},
   "source": [
    "# VESIcal at vVMSG 2022\n",
    "Simon Matthews (University of Iceland) & Penny Wieser (Oregon State University)\n",
    "## 02 - Introduction to VESIcal and Volatile Solubility Calculations\n",
    "The first thing we must do is import the python tools (or packages and modules) that we will use for the calculations, including VESIcal. "
   ]
  },
  {
   "cell_type": "code",
   "execution_count": null,
   "metadata": {},
   "outputs": [],
   "source": [
    "# NumPy provides tools for doing numerical calculations\n",
    "import numpy as np\n",
    "\n",
    "# VESIcal provides the tools for performing volatile solubility calculations\n",
    "import VESIcal as v\n"
   ]
  },
  {
   "cell_type": "markdown",
   "metadata": {},
   "source": [
    "the code `as v` means we can access all of VESIcals functions using the variable name `v`.\n",
    "\n",
    "If you have installed python on your own machine from [anaconda](anaconda.com) most of these packages will already be installed, but you would need to install the ENKI thermoengine and VESIcal. Fortunately, VESIcal comes pre-installed on the ENKI server.\n",
    "\n",
    "Note that each notebook has no knowledge of what you did in another notebook, and if you restart the server it will have no knowledge of the code you ran in the past (except what its output was). This means we have to import the packages in every notebook we run."
   ]
  },
  {
   "cell_type": "markdown",
   "metadata": {},
   "source": [
    "### Exercise 02.01 - Calculate how much CO$_2$ and H$_2$O will be dissolved in a magma\n",
    "The aim of this exercise is to explore what the different models predict for the dissolved concentrations of H$_2$O and CO$_2$ when the magma is in equilibrium with a H$_2$O-CO$_2$-vapour, with a chosen proportion of H$_2$O vs CO$_2$ and a chosen pressure.\n",
    "\n",
    "First we must create a sample composition, using the `Sample` class built into VESIcal. The example here is a melt inclusion composition from Kilauea (Wieser et al., 2021):"
   ]
  },
  {
   "cell_type": "code",
   "execution_count": null,
   "metadata": {},
   "outputs": [],
   "source": [
    "kilauea = v.Sample({'SiO2':  48.42,\n",
    "                    'TiO2':   2.45,\n",
    "                    'Al2O3': 11.90,\n",
    "                    'Fe2O3':  0.00,\n",
    "                    'FeO':   11.33,\n",
    "                    'MgO':   12.51,\n",
    "                    'CaO':   10.02,\n",
    "                    'Na2O':   2.10,\n",
    "                    'K2O':    0.45,\n",
    "                    'P2O5':   0.30,\n",
    "                    })"
   ]
  },
  {
   "cell_type": "markdown",
   "metadata": {},
   "source": [
    "**Note that VESIcal will assume your composition is given in wt%, unless you tell it otherwise**\n",
    "There is no output this time- we are just asking the notebook to store information in a particular format for us.\n",
    "\n",
    "Now we can calculate how much H$_2$O and CO$_2$ will be stored in the melt under a certain set of conditions, using the MagmaSat model:"
   ]
  },
  {
   "cell_type": "code",
   "execution_count": null,
   "metadata": {},
   "outputs": [],
   "source": [
    "# Use variables to store our choices of calculation parameter.\n",
    "P = 1000 # bars\n",
    "T = 1200 # degrees C\n",
    "fluid_composition = 0.5 # Mole fraction of H2O\n",
    "\n",
    "# Create a calculation for dissolved volatiles, using the sample we defined\n",
    "# and the parameters above.\n",
    "calc = v.calculate_dissolved_volatiles(sample=kilauea, \n",
    "                                       pressure=P, \n",
    "                                       temperature=T, \n",
    "                                       X_fluid=fluid_composition)\n",
    "\n",
    "# Print out the result of the calculation\n",
    "calc.result"
   ]
  },
  {
   "cell_type": "markdown",
   "metadata": {},
   "source": [
    "The results are given in wt%.\n",
    "\n",
    "We can now try doing the same calculation with the other models. Can't remember what models are available? No problem- we can find out!"
   ]
  },
  {
   "cell_type": "code",
   "execution_count": null,
   "metadata": {},
   "outputs": [],
   "source": [
    "v.get_model_names()"
   ]
  },
  {
   "cell_type": "markdown",
   "metadata": {},
   "source": [
    "We can change the model used in the calculation by adding an extra *argument* when we create the calculation:"
   ]
  },
  {
   "cell_type": "code",
   "execution_count": null,
   "metadata": {},
   "outputs": [],
   "source": [
    "# Create a calculation for dissolved volatiles, using the sample we defined\n",
    "# and the parameters above.\n",
    "calc = v.calculate_dissolved_volatiles(sample=kilauea, \n",
    "                                       pressure=P, \n",
    "                                       temperature=T, \n",
    "                                       X_fluid=fluid_composition,\n",
    "                                       model='IaconoMarziano') # HERE'S THE EXTRA ARGUMENT!\n",
    "\n",
    "# Print out the result of the calculation\n",
    "calc.result"
   ]
  },
  {
   "cell_type": "markdown",
   "metadata": {},
   "source": [
    "Notice that it uses the same variables we defined in the cell above. When we give VESIcal the model name it is enclosed in quotation marks- this tells python that we're giving it letters that mean something (a string), rather than a variable name. If you are curious what difference this makes, try re-running the code without the quotation marks!\n",
    "\n",
    "Looking at the calculation result we see that there is quite a big difference in the predicted solubilities."
   ]
  },
  {
   "cell_type": "markdown",
   "metadata": {},
   "source": [
    "### Exercise 02.02 - Play with the models!\n",
    "Try running some more calculations, but changing the parameters and the model you are using. You can either copy the code given above and put it into new cells below, or you can just edit and re-run the cells above. How much do the models seem to agree?"
   ]
  },
  {
   "cell_type": "code",
   "execution_count": null,
   "metadata": {},
   "outputs": [],
   "source": []
  },
  {
   "cell_type": "markdown",
   "metadata": {},
   "source": [
    "### Exercise 02.03 - Using measured CO$_2$ and H$_2$O to get saturation pressure\n",
    "Very often we are interested in the reverse calculation- given the dissolved H$_2$O and CO$_2$ concentrations in a melt inclusion, at what pressure would this be in equilibrium with a vapour.\n",
    "\n",
    "VESIcal has a built in method for doing this too, and you can use it in a very similar way to calculating the dissolved H$_2$O and CO$_2$.\n",
    "\n",
    "This time we need to define a sample composition that includes H$_2$O and CO$_2$:"
   ]
  },
  {
   "cell_type": "code",
   "execution_count": null,
   "metadata": {},
   "outputs": [],
   "source": [
    "kilauea = v.Sample({'SiO2':  48.42,\n",
    "                    'TiO2':   2.45,\n",
    "                    'Al2O3': 11.90,\n",
    "                    'Fe2O3':  0.00,\n",
    "                    'FeO':   11.33,\n",
    "                    'MgO':   12.51,\n",
    "                    'CaO':   10.02,\n",
    "                    'Na2O':   2.10,\n",
    "                    'K2O':    0.45,\n",
    "                    'P2O5':   0.30,\n",
    "                    'H2O':    0.17,\n",
    "                    'CO2':    791.0/1e4 # Convert from ppmw to wt%\n",
    "                    })\n",
    "\n",
    "# We still need to define a temperature:\n",
    "T = 1200 # degrees C"
   ]
  },
  {
   "cell_type": "code",
   "execution_count": null,
   "metadata": {},
   "outputs": [],
   "source": [
    "calcSatP = v.calculate_saturation_pressure(sample=kilauea,\n",
    "                                           temperature=T)\n",
    "calcSatP.result"
   ]
  },
  {
   "cell_type": "markdown",
   "metadata": {},
   "source": [
    "As before, the returned pressure is in bars. Since we didn't specify the model, VESIcal used MagmaSat.\n",
    "\n",
    "How does this estimate vary if we switch to a different model? Well we could copy and paste code and update it each time (as I suggested you do in the previous exercise). Or we could use another feature of python- and automate the repetitive calculation:"
   ]
  },
  {
   "cell_type": "code",
   "execution_count": null,
   "metadata": {},
   "outputs": [],
   "source": [
    "# These are the models we will repeat the calculation with:\n",
    "models_to_use = ['MagmaSat', 'IaconoMarziano', 'Dixon', 'ShishkinaIdealMixing']\n",
    "\n",
    "# For each of the models in the list, run this code (substituting the variable model each time)\n",
    "for model in models_to_use:\n",
    "    calcSatP = v.calculate_saturation_pressure(sample=kilauea,\n",
    "                                               temperature=T,\n",
    "                                               model=model)\n",
    "    \n",
    "    # Print a formatted statement with the result from each model\n",
    "    print(\"Saturation Pressure from {} is {:.1f} bars.\".format(model, calcSatP.result))"
   ]
  },
  {
   "cell_type": "markdown",
   "metadata": {},
   "source": [
    "That cell may have reported an error in finding the Saturation pressure. Usually this is an important error to pay attention to. In this case, it is a bug that I discovered while writing this workshop! The result is correct, but I only know that after further investigation. Hopefully this won't be an issue for your calculations! And if it is- let us know and we will fix it ASAP!\n",
    "\n",
    "We can also calculate the fluid composition that would be in equilibrium the sample. I have adjusted the loop above to use a different calculation:"
   ]
  },
  {
   "cell_type": "code",
   "execution_count": null,
   "metadata": {},
   "outputs": [],
   "source": [
    "# These are the models we will repeat the calculation with:\n",
    "models_to_use = ['MagmaSat', 'IaconoMarziano', 'Dixon', 'ShishkinaIdealMixing']\n",
    "\n",
    "# For each of the models in the list, run this code (substituting the variable model each time)\n",
    "for model in models_to_use:\n",
    "    calcSatP = v.calculate_equilibrium_fluid_comp(sample=kilauea, # THIS IS THE LINE I CHANGED\n",
    "                                                  temperature=T,\n",
    "                                                  model=model)\n",
    "    \n",
    "    # Print a formatted statement with the result from each model\n",
    "    print(\"The {} model predicts a H2O mole fraction of {:.3f} and a CO2 fraction \" \n",
    "          \"of {:.3f}.\".format(model, calcSatP.result['H2O'], calcSatP.result['CO2']))"
   ]
  },
  {
   "cell_type": "code",
   "execution_count": null,
   "metadata": {},
   "outputs": [],
   "source": [
    "# These are the models we will repeat the calculation with:\n",
    "models_to_use = ['MagmaSat', 'IaconoMarziano', 'Dixon', 'ShishkinaIdealMixing']\n",
    "\n",
    "# For each of the models in the list, run this code (substituting the variable model each time)\n",
    "for model in models_to_use:\n",
    "    calcSatP = v.calculate_equilibrium_fluid_comp(sample=kilauea,\n",
    "                                                  temperature=T,\n",
    "                                                  model=model)\n",
    "    \n",
    "    # Print a formatted statement with the result from each model\n",
    "    print(\"Saturation Pressure from {} is {} bars.\".format(model, calcSatP.result))"
   ]
  },
  {
   "cell_type": "code",
   "execution_count": null,
   "metadata": {},
   "outputs": [],
   "source": []
  }
 ],
 "metadata": {
  "kernelspec": {
   "display_name": "Python 3",
   "language": "python",
   "name": "python3"
  },
  "language_info": {
   "codemirror_mode": {
    "name": "ipython",
    "version": 3
   },
   "file_extension": ".py",
   "mimetype": "text/x-python",
   "name": "python",
   "nbconvert_exporter": "python",
   "pygments_lexer": "ipython3",
   "version": "3.7.6"
  }
 },
 "nbformat": 4,
 "nbformat_minor": 4
}
