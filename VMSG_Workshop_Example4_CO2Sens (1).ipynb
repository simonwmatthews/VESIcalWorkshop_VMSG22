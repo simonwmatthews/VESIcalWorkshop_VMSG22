{
 "cells": [
  {
   "cell_type": "markdown",
   "metadata": {},
   "source": [
    "## This final notebook investigates the sensitivity of Saturation pressure to CO2"
   ]
  },
  {
   "cell_type": "code",
   "execution_count": null,
   "metadata": {},
   "outputs": [],
   "source": [
    "import VESIcal as v\n",
    "import matplotlib.pyplot as plt\n",
    "import numpy as np\n",
    "import pandas as pd"
   ]
  },
  {
   "cell_type": "markdown",
   "metadata": {},
   "source": [
    "# Lets load the composition of a Fuego melt inclusion, with 4 wt% water"
   ]
  },
  {
   "cell_type": "code",
   "execution_count": 2,
   "metadata": {},
   "outputs": [],
   "source": [
    "Fuego_noCO2 =v.Sample({'SiO2': 49.67,\n",
    " 'TiO2':     1.17,\n",
    " 'Al2O3':    16.50,\n",
    " 'Fe2O3':     1.653168,\n",
    " 'FeO':       8.432,\n",
    " 'MnO': 0.185898241,\n",
    " 'MgO':      4.380435345,\n",
    " 'CaO':      7.901059264,\n",
    " 'Na2O':      3.372092032,\n",
    " 'K2O':       0.79127506,\n",
    "'P2O5':     0.22,\n",
    "'CO2': 0,\n",
    "'H2O': 4})"
   ]
  },
  {
   "cell_type": "markdown",
   "metadata": {},
   "source": [
    "## Lets calculate a H2O-only pressure, e.g., say we were using plagioclase hygrometry"
   ]
  },
  {
   "cell_type": "code",
   "execution_count": 18,
   "metadata": {},
   "outputs": [
    {
     "data": {
      "text/plain": [
       "1310"
      ]
     },
     "execution_count": 18,
     "metadata": {},
     "output_type": "execute_result"
    }
   ],
   "source": [
    "SatP_noCO2=v.calculate_saturation_pressure(sample=Fuego_noCO2, temperature=1000).result\n",
    "SatP_noCO2"
   ]
  },
  {
   "cell_type": "markdown",
   "metadata": {},
   "source": [
    "## Lets say there is actually 1000 ppm CO2 in the glass phase, which we measure using SIMS..\n",
    "- How much does the saturation pressure change?"
   ]
  },
  {
   "cell_type": "code",
   "execution_count": 4,
   "metadata": {},
   "outputs": [
    {
     "data": {
      "text/plain": [
       "2850"
      ]
     },
     "execution_count": 4,
     "metadata": {},
     "output_type": "execute_result"
    }
   ],
   "source": [
    "## Now play around with adding varying amoutns of CO2#\n",
    "# You can see, in arcs, mafic plag really shouldn't be used as a hygrometer\n",
    "CO2_glass=1000\n",
    "\n",
    "Fuego_CO2 =v.Sample({'SiO2': 49.67,\n",
    " 'TiO2':     1.17,\n",
    " 'Al2O3':    16.50,\n",
    " 'Fe2O3':     1.653168,\n",
    " 'FeO':       8.432,\n",
    " 'MnO': 0.185898241,\n",
    " 'MgO':      4.380435345,\n",
    " 'CaO':      7.901059264,\n",
    " 'Na2O':      3.372092032,\n",
    " 'K2O':       0.79127506,\n",
    "'P2O5':     0.22,\n",
    "'CO2': CO2_glass/10000,\n",
    "'H2O': 4})\n",
    "\n",
    "SatP_CO2=v.calculate_saturation_pressure(sample=Fuego_CO2, temperature=1000).result\n",
    "SatP_CO2"
   ]
  },
  {
   "cell_type": "markdown",
   "metadata": {},
   "source": [
    "## Now lets say there is also a certain amount of CO2 in the vapour bubble. "
   ]
  },
  {
   "cell_type": "code",
   "execution_count": 5,
   "metadata": {},
   "outputs": [
    {
     "data": {
      "text/plain": [
       "5280"
      ]
     },
     "execution_count": 5,
     "metadata": {},
     "output_type": "execute_result"
    }
   ],
   "source": [
    "## Now play around with adding varying amoutns of CO2#\n",
    "# You can see, in arcs, mafic plag really shouldn't be used as a hygrometer\n",
    "CO2_glass=1000\n",
    "CO2_bubble=2000\n",
    "Fuego_CO2 =v.Sample({'SiO2': 49.67,\n",
    " 'TiO2':     1.17,\n",
    " 'Al2O3':    16.50,\n",
    " 'Fe2O3':     1.653168,\n",
    " 'FeO':       8.432,\n",
    " 'MnO': 0.185898241,\n",
    " 'MgO':      4.380435345,\n",
    " 'CaO':      7.901059264,\n",
    " 'Na2O':      3.372092032,\n",
    " 'K2O':       0.79127506,\n",
    "'P2O5':     0.22,\n",
    "'CO2': (CO2_glass+CO2_bubble)/10000,\n",
    "'H2O': 4})\n",
    "\n",
    "SatP_CO2=v.calculate_saturation_pressure(sample=Fuego_CO2, temperature=1000).result\n",
    "SatP_CO2"
   ]
  },
  {
   "cell_type": "markdown",
   "metadata": {},
   "source": [
    "## Introducing forloops\n",
    "- When Penny did the calcs for VESIcal II, she didnt do these calcs manually\n",
    "- instead, you can set up forloops to consider a wide range of CO$_2$ content for different models.\n",
    "- This method can be used to investigate sensitivity to a variety of things. You can find the scripts for VESIcal II here https://github.com/PennyWieser/VESIcal_II\n",
    "- Investigating adding between 0 and 5000 ppm CO2 to a fixed melt composition (from Lowell Moore, Fuego) to see how much bubble CO2 affects saturation pressures"
   ]
  },
  {
   "cell_type": "code",
   "execution_count": 21,
   "metadata": {},
   "outputs": [
    {
     "name": "stdout",
     "output_type": "stream",
     "text": [
      "653e-13, iter = 37\n",
      "duanH2ODriver(b): t = 1273.15, p = 6880, z = 1.68393, v = 2.59089, delv = 0, dx = -1.09653e-13, iter = 37\n",
      "duanH2ODriver(b): t = 1273.15, p = 6880, z = 1.68393, v = 2.59089, delv = 0, dx = -1.09653e-13, iter = 37\n",
      "duanH2ODriver(b): t = 1273.15, p = 6880, z = 1.68393, v = 2.59089, delv = 0, dx = -1.09653e-13, iter = 37\n",
      "duanH2ODriver(b): t = 1273.15, p = 6880, z = 1.68393, v = 2.59089, delv = 0, dx = -1.09653e-13, iter = 37\n",
      "duanH2ODriver(b): t = 1273.15, p = 6880, z = 1.68393, v = 2.59089, delv = 0, dx = -1.09653e-13, iter = 37\n",
      "duanH2ODriver(b): t = 1273.15, p = 6880, z = 1.68393, v = 2.59089, delv = 0, dx = -1.09653e-13, iter = 37\n",
      "duanH2ODriver(b): t = 1273.15, p = 6880, z = 1.68393, v = 2.59089, delv = 0, dx = -1.09653e-13, iter = 37\n",
      "duanH2ODriver(b): t = 1273.15, p = 6880, z = 1.68393, v = 2.59089, delv = 0, dx = -1.09653e-13, iter = 37\n",
      "duanH2ODriver(b): t = 1273.15, p = 6880, z = 1.68393, v = 2.59089, delv = 0, dx = -1.09653e-13, iter = 37\n",
      "duanH2ODriver(b): t = 1273.15, p = 6880, z = 1.68393, v = 2.59089, delv = 0, dx = -1.09653e-13, iter = 37\n",
      "duanH2ODriver(b): t = 1273.15, p = 6880, z = 1.68393, v = 2.59089, delv = 0, dx = -1.09653e-13, iter = 37\n",
      "duanH2ODriver(b): t = 1273.15, p = 6880, z = 1.68393, v = 2.59089, delv = 0, dx = -1.09653e-13, iter = 37\n",
      "duanH2ODriver(b): t = 1273.15, p = 6880, z = 1.68393, v = 2.59089, delv = 0, dx = -1.09653e-13, iter = 37\n",
      "duanH2ODriver(b): t = 1273.15, p = 6880, z = 1.68393, v = 2.59089, delv = 0, dx = -1.09653e-13, iter = 37\n",
      "duanH2ODriver(b): t = 1273.15, p = 6880, z = 1.68393, v = 2.59089, delv = 0, dx = -1.09653e-13, iter = 37\n",
      "duanH2ODriver(b): t = 1273.15, p = 6880, z = 1.68393, v = 2.59089, delv = 0, dx = -1.09653e-13, iter = 37\n",
      "duanH2ODriver(b): t = 1273.15, p = 6880, z = 1.68393, v = 2.59089, delv = 0, dx = -1.09653e-13, iter = 37\n",
      "duanH2ODriver(b): t = 1273.15, p = 6880, z = 1.68393, v = 2.59089, delv = 0, dx = -1.09653e-13, iter = 37\n",
      "duanH2ODriver(b): t = 1273.15, p = 6880, z = 1.68393, v = 2.59089, delv = 0, dx = -1.09653e-13, iter = 37\n",
      "duanH2ODriver(b): t = 1273.15, p = 6880, z = 1.68393, v = 2.59089, delv = 0, dx = -1.09653e-13, iter = 37\n",
      "duanH2ODriver(b): t = 1273.15, p = 6880, z = 1.68393, v = 2.59089, delv = 0, dx = -1.09653e-13, iter = 37\n",
      "duanH2ODriver(b): t = 1273.15, p = 6880, z = 1.68393, v = 2.59089, delv = 0, dx = -1.09653e-13, iter = 37\n",
      "duanH2ODriver(b): t = 1273.15, p = 6880, z = 1.68393, v = 2.59089, delv = 0, dx = -1.09653e-13, iter = 37\n",
      "duanH2ODriver(b): t = 1273.15, p = 6880, z = 1.68393, v = 2.59089, delv = 0, dx = -1.09653e-13, iter = 37\n",
      "duanH2ODriver(b): t = 1273.15, p = 6880, z = 1.68393, v = 2.59089, delv = 0, dx = -1.09653e-13, iter = 37\n",
      "duanH2ODriver(b): t = 1273.15, p = 6880, z = 1.68393, v = 2.59089, delv = 0, dx = -1.09653e-13, iter = 37\n",
      "duanH2ODriver(b): t = 1273.15, p = 6880, z = 1.68393, v = 2.59089, delv = 0, dx = -1.09653e-13, iter = 37\n",
      "duanH2ODriver(b): t = 1273.15, p = 6880, z = 1.68393, v = 2.59089, delv = 0, dx = -1.09653e-13, iter = 37\n",
      "duanH2ODriver(b): t = 1273.15, p = 6880, z = 1.68393, v = 2.59089, delv = 0, dx = -1.09653e-13, iter = 37\n",
      "duanH2ODriver(b): t = 1273.15, p = 6880, z = 1.68393, v = 2.59089, delv = 0, dx = -1.09653e-13, iter = 37\n",
      "duanH2ODriver(b): t = 1273.15, p = 6880, z = 1.68393, v = 2.59089, delv = 0, dx = -1.09653e-13, iter = 37\n",
      "duanH2ODriver(b): t = 1273.15, p = 6880, z = 1.68393, v = 2.59089, delv = 0, dx = -1.09653e-13, iter = 37\n",
      "duanH2ODriver(b): t = 1273.15, p = 6880, z = 1.68393, v = 2.59089, delv = 0, dx = -1.09653e-13, iter = 37\n",
      "duanDriver-2: t = 1273.15, p = 7700, z = 3.05308, v = 4.19722, delv = 0, dx = -3.16513e-14, iter = 44\n",
      "duanDriver-2: t = 1273.15, p = 6000, z = 1.99509, v = 3.51985, delv = 0, dx = -5.14397e-14, iter = 33\n",
      "duanDriver-2: t = 1273.15, p = 12000, z = 2.39445, v = 2.11222, delv = 0, dx = -2.87553e-14, iter = 43\n",
      "duanDriver-2: t = 1273.15, p = 6000, z = 2.35007, v = 4.14614, delv = 0, dx = -7.26656e-14, iter = 41\n",
      "duanDriver-2: t = 1273.15, p = 20000, z = 3.5888, v = 1.89947, delv = 0, dx = -2.59565e-14, iter = 44\n",
      "duanDriver-2: t = 1273.15, p = 4450, z = 2.19626, v = 5.22441, delv = 0, dx = -6.73096e-13, iter = 36\n",
      "duanDriver-2: t = 1273.15, p = 6000, z = 2.54685, v = 4.4933, delv = 0, dx = -7.0927e-12, iter = 31\n",
      "duanDriver-2: t = 1273.15, p = 6000, z = 2.58899, v = 4.56765, delv = 0, dx = -2.89581e-14, iter = 40\n",
      "duanH2ODriver(b): t = 1273.15, p = 5170, z = 1.4428, v = 2.95414, delv = 0, dx = -5.9901e-14, iter = 34\n",
      "duanCO2Driver(b): t = 1273.15, p = 5160, z = 2.50376, v = 5.13638, delv = 0, dx = -1.08465e-13, iter = 36\n",
      "duanCO2Driver(b): t = 1273.15, p = 5160, z = 2.50376, v = 5.13638, delv = 0, dx = -1.08465e-13, iter = 36\n",
      "duanCO2Driver(b): t = 1273.15, p = 5160, z = 2.50376, v = 5.13638, delv = 0, dx = -1.08465e-13, iter = 36\n",
      "duanCO2Driver(b): t = 1273.15, p = 5160, z = 2.50376, v = 5.13638, delv = 0, dx = -1.08465e-13, iter = 36\n",
      "duanCO2Driver(b): t = 1273.15, p = 5160, z = 2.50376, v = 5.13638, delv = 0, dx = -1.08465e-13, iter = 36\n",
      "duanDriver-2: t = 1273.15, p = 8000, z = 3.09109, v = 4.09012, delv = 0, dx = -2.76903e-14, iter = 38\n",
      "duanDriver-2: t = 1273.15, p = 6300, z = 2.69553, v = 4.52916, delv = 0, dx = -4.60013e-11, iter = 31\n",
      "duanDriver-2: t = 1273.15, p = 6300, z = 2.69553, v = 4.52916, delv = 0, dx = -4.60013e-11, iter = 31\n",
      "duanDriver-2: t = 1273.15, p = 6300, z = 2.69553, v = 4.52916, delv = 0, dx = -4.60013e-11, iter = 31\n",
      "duanH2ODriver(b): t = 1273.15, p = 6360, z = 1.61078, v = 2.68098, delv = 0, dx = -2.37653e-14, iter = 37\n",
      "duanDriver-2: t = 1273.15, p = 6330, z = 2.70262, v = 4.51956, delv = 0, dx = -3.8058e-13, iter = 38\n",
      "duanDriver-2: t = 1273.15, p = 6800, z = 2.82634, v = 4.39976, delv = 0, dx = -2.64014e-14, iter = 43\n",
      "duanH2ODriver(b): t = 1273.15, p = 6880, z = 1.68393, v = 2.59089, delv = 0, dx = -1.09653e-13, iter = 37\n",
      "duanH2ODriver(b): t = 1273.15, p = 6880, z = 1.68393, v = 2.59089, delv = 0, dx = -1.09653e-13, iter = 37\n",
      "duanH2ODriver(b): t = 1273.15, p = 6880, z = 1.68393, v = 2.59089, delv = 0, dx = -1.09653e-13, iter = 37\n",
      "duanH2ODriver(b): t = 1273.15, p = 6880, z = 1.68393, v = 2.59089, delv = 0, dx = -1.09653e-13, iter = 37\n",
      "duanH2ODriver(b): t = 1273.15, p = 6880, z = 1.68393, v = 2.59089, delv = 0, dx = -1.09653e-13, iter = 37\n",
      "duanH2ODriver(b): t = 1273.15, p = 6880, z = 1.68393, v = 2.59089, delv = 0, dx = -1.09653e-13, iter = 37\n",
      "duanH2ODriver(b): t = 1273.15, p = 6880, z = 1.68393, v = 2.59089, delv = 0, dx = -1.09653e-13, iter = 37\n",
      "duanH2ODriver(b): t = 1273.15, p = 6880, z = 1.68393, v = 2.59089, delv = 0, dx = -1.09653e-13, iter = 37\n",
      "duanH2ODriver(b): t = 1273.15, p = 6880, z = 1.68393, v = 2.59089, delv = 0, dx = -1.09653e-13, iter = 37\n",
      "duanH2ODriver(b): t = 1273.15, p = 6880, z = 1.68393, v = 2.59089, delv = 0, dx = -1.09653e-13, iter = 37\n",
      "duanH2ODriver(b): t = 1273.15, p = 6880, z = 1.68393, v = 2.59089, delv = 0, dx = -1.09653e-13, iter = 37\n",
      "duanH2ODriver(b): t = 1273.15, p = 6880, z = 1.68393, v = 2.59089, delv = 0, dx = -1.09653e-13, iter = 37\n",
      "duanDriver-2: t = 1273.15, p = 6880, z = 2.8473, v = 4.38086, delv = 0, dx = -2.93516e-14, iter = 43\n",
      "duanH2ODriver(b): t = 1273.15, p = 6880, z = 1.68393, v = 2.59089, delv = 0, dx = -1.09653e-13, iter = 37\n",
      "duanH2ODriver(b): t = 1273.15, p = 6880, z = 1.68393, v = 2.59089, delv = 0, dx = -1.09653e-13, iter = 37\n",
      "duanH2ODriver(b): t = 1273.15, p = 6880, z = 1.68393, v = 2.59089, delv = 0, dx = -1.09653e-13, iter = 37\n",
      "duanH2ODriver(b): t = 1273.15, p = 6880, z = 1.68393, v = 2.59089, delv = 0, dx = -1.09653e-13, iter = 37\n",
      "duanH2ODriver(b): t = 1273.15, p = 6880, z = 1.68393, v = 2.59089, delv = 0, dx = -1.09653e-13, iter = 37\n",
      "duanH2ODriver(b): t = 1273.15, p = 6880, z = 1.68393, v = 2.59089, delv = 0, dx = -1.09653e-13, iter = 37\n",
      "duanH2ODriver(b): t = 1273.15, p = 6880, z = 1.68393, v = 2.59089, delv = 0, dx = -1.09653e-13, iter = 37\n",
      "duanH2ODriver(b): t = 1273.15, p = 6880, z = 1.68393, v = 2.59089, delv = 0, dx = -1.09653e-13, iter = 37\n",
      "duanH2ODriver(b): t = 1273.15, p = 6880, z = 1.68393, v = 2.59089, delv = 0, dx = -1.09653e-13, iter = 37\n",
      "duanH2ODriver(b): t = 1273.15, p = 6880, z = 1.68393, v = 2.59089, delv = 0, dx = -1.09653e-13, iter = 37\n",
      "duanH2ODriver(b): t = 1273.15, p = 6880, z = 1.68393, v = 2.59089, delv = 0, dx = -1.09653e-13, iter = 37\n",
      "duanH2ODriver(b): t = 1273.15, p = 6880, z = 1.68393, v = 2.59089, delv = 0, dx = -1.09653e-13, iter = 37\n",
      "duanH2ODriver(b): t = 1273.15, p = 6880, z = 1.68393, v = 2.59089, delv = 0, dx = -1.09653e-13, iter = 37\n",
      "duanH2ODriver(b): t = 1273.15, p = 6880, z = 1.68393, v = 2.59089, delv = 0, dx = -1.09653e-13, iter = 37\n",
      "duanH2ODriver(b): t = 1273.15, p = 6880, z = 1.68393, v = 2.59089, delv = 0, dx = -1.09653e-13, iter = 37\n",
      "duanH2ODriver(b): t = 1273.15, p = 6880, z = 1.68393, v = 2.59089, delv = 0, dx = -1.09653e-13, iter = 37\n",
      "duanH2ODriver(b): t = 1273.15, p = 6880, z = 1.68393, v = 2.59089, delv = 0, dx = -1.09653e-13, iter = 37\n",
      "duanH2ODriver(b): t = 1273.15, p = 6880, z = 1.68393, v = 2.59089, delv = 0, dx = -1.09653e-13, iter = 37\n",
      "duanH2ODriver(b): t = 1273.15, p = 6880, z = 1.68393, v = 2.59089, delv = 0, dx = -1.09653e-13, iter = 37\n",
      "duanH2ODriver(b): t = 1273.15, p = 6880, z = 1.68393, v = 2.59089, delv = 0, dx = -1.09653e-13, iter = 37\n",
      "duanH2ODriver(b): t = 1273.15, p = 6880, z = 1.68393, v = 2.59089, delv = 0, dx = -1.09653e-13, iter = 37\n",
      "duanH2ODriver(b): t = 1273.15, p = 6880, z = 1.68393, v = 2.59089, delv = 0, dx = -1.09653e-13, iter = 37\n",
      "duanH2ODriver(b): t = 1273.15, p = 6880, z = 1.68393, v = 2.59089, delv = 0, dx = -1.09653e-13, iter = 37\n",
      "duanH2ODriver(b): t = 1273.15, p = 6880, z = 1.68393, v = 2.59089, delv = 0, dx = -1.09653e-13, iter = 37\n",
      "duanH2ODriver(b): t = 1273.15, p = 6880, z = 1.68393, v = 2.59089, delv = 0, dx = -1.09653e-13, iter = 37\n",
      "duanH2ODriver(b): t = 1273.15, p = 6880, z = 1.68393, v = 2.59089, delv = 0, dx = -1.09653e-13, iter = 37\n",
      "duanH2ODriver(b): t = 1273.15, p = 6880, z = 1.68393, v = 2.59089, delv = 0, dx = -1.09653e-13, iter = 37\n",
      "duanH2ODriver(b): t = 1273.15, p = 6880, z = 1.68393, v = 2.59089, delv = 0, dx = -1.09653e-13, iter = 37\n",
      "duanH2ODriver(b): t = 1273.15, p = 6880, z = 1.68393, v = 2.59089, delv = 0, dx = -1.09653e-13, iter = 37\n",
      "duanH2ODriver(b): t = 1273.15, p = 6880, z = 1.68393, v = 2.59089, delv = 0, dx = -1.09653e-13, iter = 37\n",
      "duanH2ODriver(b): t = 1273.15, p = 6880, z = 1.68393, v = 2.59089, delv = 0, dx = -1.09653e-13, iter = 37\n",
      "duanH2ODriver(b): t = 1273.15, p = 6880, z = 1.68393, v = 2.59089, delv = 0, dx = -1.09653e-13, iter = 37\n",
      "duanH2ODriver(b): t = 1273.15, p = 6880, z = 1.68393, v = 2.59089, delv = 0, dx = -1.09653e-13, iter = 37\n",
      "duanH2ODriver(b): t = 1273.15, p = 6880, z = 1.68393, v = 2.59089, delv = 0, dx = -1.09653e-13, iter = 37\n",
      "duanH2ODriver(b): t = 1273.15, p = 6880, z = 1.68393, v = 2.59089, delv = 0, dx = -1.09653e-13, iter = 37\n",
      "duanH2ODriver(b): t = 1273.15, p = 6880, z = 1.68393, v = 2.59089, delv = 0, dx = -1.09653e-13, iter = 37\n",
      "duanH2ODriver(b): t = 1273.15, p = 6880, z = 1.68393, v = 2.59089, delv = 0, dx = -1.09653e-13, iter = 37\n",
      "duanH2ODriver(b): t = 1273.15, p = 6880, z = 1.68393, v = 2.59089, delv = 0, dx = -1.09653e-13, iter = 37\n",
      "duanH2ODriver(b): t = 1273.15, p = 6880, z = 1.68393, v = 2.59089, delv = 0, dx = -1.09653e-13, iter = 37\n",
      "duanH2ODriver(b): t = 1273.15, p = 6880, z = 1.68393, v = 2.59089, delv = 0, dx = -1.09653e-13, iter = 37\n",
      "duanH2ODriver(b): t = 1273.15, p = 6880, z = 1.68393, v = 2.59089, delv = 0, dx = -1.09653e-13, iter = 37\n",
      "duanH2ODriver(b): t = 1273.15, p = 6880, z = 1.68393, v = 2.59089, delv = 0, dx = -1.09653e-13, iter = 37\n",
      "duanH2ODriver(b): t = 1273.15, p = 6880, z = 1.68393, v = 2.59089, delv = 0, dx = -1.09653e-13, iter = 37\n",
      "duanH2ODriver(b): t = 1273.15, p = 6880, z = 1.68393, v = 2.59089, delv = 0, dx = -1.09653e-13, iter = 37\n",
      "duanH2ODriver(b): t = 1273.15, p = 6880, z = 1.68393, v = 2.59089, delv = 0, dx = -1.09653e-13, iter = 37\n",
      "duanH2ODriver(b): t = 1273.15, p = 6880, z = 1.68393, v = 2.59089, delv = 0, dx = -1.09653e-13, iter = 37\n",
      "duanH2ODriver(b): t = 1273.15, p = 6880, z = 1.68393, v = 2.59089, delv = 0, dx = -1.09653e-13, iter = 37\n",
      "duanH2ODriver(b): t = 1273.15, p = 6880, z = 1.68393, v = 2.59089, delv = 0, dx = -1.09653e-13, iter = 37\n",
      "duanH2ODriver(b): t = 1273.15, p = 6880, z = 1.68393, v = 2.59089, delv = 0, dx = -1.09653e-13, iter = 37\n",
      "duanH2ODriver(b): t = 1273.15, p = 688"
     ]
    }
   ],
   "source": [
    "# Set up an array of CO2 contents. Here, have hand-typed to get a good spacing, could do with linspaces\n",
    "CO2=np.array([0, 0.001, 0.002, 0.003, 0.005, 0.0075, 0.01, 0.015, 0.02, 0.05, 0.1, 0.15, 0.2, 0.25, 0.3, 0.35, 0.4, 0.45, 0.5])\n",
    "# In python, your life is easiest if you set up empty containers tolater fill in\n",
    "Psat_Fuego_MagmaSat_2=np.empty(len(CO2), dtype=float)\n",
    "Psat_Fuego_Dixon_2=np.empty(len(CO2), dtype=float)\n",
    "Psat_Fuego_Shish_2=np.empty(len(CO2), dtype=float)\n",
    "Psat_Fuego_IM_H_2=np.empty(len(CO2), dtype=float)\n",
    "Psat_Fuego_IM_A_2=np.empty(len(CO2), dtype=float)\n",
    "\n",
    "# I'm just turning warnings off here as i'm likely to trigger calibration warnings\n",
    "with w.catch_warnings():\n",
    "    w.simplefilter('ignore')\n",
    "    \n",
    "    # Now, we loop through each CO2 content\n",
    "    for i in range(0, len(CO2)):\n",
    "\n",
    "\n",
    "    # EAch time through the loop, CO2 in the sample gets replaced with the CO2 from the np.array\n",
    "        Fuego =v.Sample({'SiO2': 49.67,\n",
    "     'TiO2':     1.17,\n",
    "     'Al2O3':    16.50,\n",
    "     'Fe2O3':     1.653168,\n",
    "     'FeO':       8.432,\n",
    "     'MnO': 0.185898241,\n",
    "     'MgO':      4.380435345,\n",
    "     'CaO':      7.901059264,\n",
    "     'Na2O':      3.372092032,\n",
    "     'K2O':       0.79127506,\n",
    "    'P2O5':     0.22,\n",
    "    'CO2': CO2[i],\n",
    "    'H2O': 2}, default_normalization='none')\n",
    "        # Then calculate PSat for each loop using diferent models\n",
    "        Psat_Fuego_MagmaSat_2[i]=v.calculate_saturation_pressure(sample=Fuego,  temperature=1000).result\n",
    "        Psat_Fuego_IM_H_2[i]=v.calculate_saturation_pressure(sample=Fuego, model='IaconoMarziano',  temperature=1000).result\n",
    "        Psat_Fuego_IM_A_2[i]=v.calculate_saturation_pressure(sample=Fuego, model='IaconoMarziano',  coeffs=\"anhydrous\",  temperature=1000).result\n",
    "        Psat_Fuego_Dixon_2[i]=v.calculate_saturation_pressure(sample=Fuego, model='Dixon',  temperature=1000).result\n",
    "        Psat_Fuego_Shish_2[i]=v.calculate_saturation_pressure(sample=Fuego, model='ShishkinaIdealMixing',  temperature=1000).result"
   ]
  },
  {
   "cell_type": "markdown",
   "metadata": {},
   "source": [
    "## Magmasat has a resolution of 10 MPa, can cause bounciness, so we perform a polynomial fit"
   ]
  },
  {
   "cell_type": "code",
   "execution_count": 22,
   "metadata": {},
   "outputs": [
    {
     "data": {
      "text/plain": [
       "[<matplotlib.lines.Line2D at 0x7f3beb3277f0>]"
      ]
     },
     "execution_count": 22,
     "metadata": {},
     "output_type": "execute_result"
    },
    {
     "data": {
      "image/png": "[encoded data removed]",
      "text/plain": [
       "<Figure size 432x288 with 1 Axes>"
      ]
     },
     "metadata": {},
     "output_type": "display_data"
    }
   ],
   "source": [
    "plt.fill_between(CO2, Psat_Fuego_MagmaSat_2-10, Psat_Fuego_MagmaSat_2+10, color='grey', alpha=0.2)\n",
    "Pf_Magmasat_2 = np.poly1d(np.polyfit(CO2[0:],  Psat_Fuego_MagmaSat_2[0:], 8))\n",
    "Px_new_Magmasat_2 = CO2\n",
    "Py_new_Magmasat_2 = Pf_Magmasat_2(Px_new_Magmasat_2)\n",
    "plt.plot(Px_new_Magmasat_2, Py_new_Magmasat_2, '-r')\n",
    "plt.plot(CO2, Psat_Fuego_MagmaSat_2, '*k', markersize=4)"
   ]
  },
  {
   "cell_type": "code",
   "execution_count": 13,
   "metadata": {},
   "outputs": [
    {
     "data": {
      "text/plain": [
       "Text(0, 0.5, 'Saturation Pressure (kbar)')"
      ]
     },
     "execution_count": 13,
     "metadata": {},
     "output_type": "execute_result"
    },
    {
     "data": {
      "image/png": "[encoded data removed]",
      "text/plain": [
       "<Figure size 504x360 with 1 Axes>"
      ]
     },
     "metadata": {},
     "output_type": "display_data"
    }
   ],
   "source": [
    "# Figure for all 3 CO2 contents\n",
    "b=1.5\n",
    "fig, (ax1) = plt.subplots(1,1, figsize=(7, 5), sharex=True) # adjust dimensions of figure here\n",
    "\n",
    "ax1.plot(Px_new_Magmasat_2, 0.001*Py_new_Magmasat_2, '-', color='grey', linewidth=b)\n",
    "ax1.plot(Px_new_Magmasat_2[0], 0.001*Py_new_Magmasat_2[0], 'ok', mfc='grey', markersize=7)\n",
    "\n",
    "ax1.plot(Px_new_Magmasat_2[-1], 0.001*Py_new_Magmasat_2[-1], 'sk', mfc='grey', markersize=7)\n",
    "\n",
    "ax1.plot(CO2, 0.001*Psat_Fuego_Shish_2, '-', color='orange', linewidth=b)\n",
    "ax1.plot(CO2[0], 0.001*Psat_Fuego_Shish_2[0], 'ok', mfc='orange', markersize=7)\n",
    "ax1.plot(CO2[-1], 0.001*Psat_Fuego_Shish_2[-1], 'sk', mfc='orange', markersize=7)\n",
    "\n",
    "\n",
    "ax1.plot(CO2, 0.001*Psat_Fuego_IM_A_2, '-', color='darkred', linewidth=b)\n",
    "ax1.plot(CO2[0], 0.001*Psat_Fuego_IM_A_2[0], 'ok', mfc='darkred', markersize=7)\n",
    "ax1.plot(CO2[-1], 0.001*Psat_Fuego_IM_A_2[-1], 'sk', mfc='darkred', markersize=7)\n",
    "\n",
    "\n",
    "ax1.plot(CO2, 0.001*Psat_Fuego_IM_H_2, '-', color='magenta', linewidth=b)\n",
    "ax1.plot(CO2[0], 0.001*Psat_Fuego_IM_H_2[0], 'ok', mfc='magenta', markersize=7)\n",
    "ax1.plot(CO2[-1], 0.001*Psat_Fuego_IM_H_2[-1], 'sk', mfc='magenta', markersize=7)\n",
    "\n",
    "\n",
    "\n",
    "ax1.plot(CO2, 0.001*Psat_Fuego_Dixon_2, '-', color='cornflowerblue', linewidth=b)\n",
    "ax1.plot(CO2[0], 0.001*Psat_Fuego_Dixon_2[0], 'ok', mfc='cornflowerblue', markersize=7)\n",
    "ax1.plot(CO2[-1], 0.001*Psat_Fuego_Dixon_2[-1], 'sk', mfc='cornflowerblue', markersize=7)\n",
    "\n",
    "# 1000 ppm ones so ontop\n",
    "star=10\n",
    "ax1.plot(Px_new_Magmasat_2[star], 0.001*Py_new_Magmasat_2[star], '*k', mfc='grey', markersize=8, lw=0.5)\n",
    "ax1.plot(CO2[star], 0.001*Psat_Fuego_Shish_2[star], '*k', mfc='orange', markersize=8, lw=0.5)\n",
    "ax1.plot(CO2[star], 0.001*Psat_Fuego_IM_A_2[star], '*k', mfc='darkred', markersize=8, lw=0.5)\n",
    "ax1.plot(CO2[star], 0.001*Psat_Fuego_IM_H_2[star], '*k', mfc='magenta', markersize=8, lw=0.5)\n",
    "ax1.plot(CO2[star], 0.001*Psat_Fuego_Dixon_2[star], '*k', mfc='cornflowerblue', markersize=8, lw=0.5)\n",
    "\n",
    "\n",
    "ax1.set_xlabel('CO$_2$ (wt%)')\n",
    "ax1.set_ylabel('Saturation Pressure (kbar)')"
   ]
  },
  {
   "cell_type": "markdown",
   "metadata": {},
   "source": [
    "## Measure your bubbles!!!!"
   ]
  },
  {
   "cell_type": "code",
   "execution_count": null,
   "metadata": {},
   "outputs": [],
   "source": []
  }
 ],
 "metadata": {
  "kernelspec": {
   "display_name": "Python 3 (ipykernel)",
   "language": "python",
   "name": "python3"
  },
  "language_info": {
   "codemirror_mode": {
    "name": "ipython",
    "version": 3
   },
   "file_extension": ".py",
   "mimetype": "text/x-python",
   "name": "python",
   "nbconvert_exporter": "python",
   "pygments_lexer": "ipython3",
   "version": "3.9.7"
  }
 },
 "nbformat": 4,
 "nbformat_minor": 4
}
