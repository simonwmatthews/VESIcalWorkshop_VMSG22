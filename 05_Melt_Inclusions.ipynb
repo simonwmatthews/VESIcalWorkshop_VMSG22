{
 "cells": [
  {
   "cell_type": "markdown",
   "metadata": {},
   "source": [
    "# VESIcal at vVMSG 2022\n",
    "Simon Matthews (University of Iceland) & Penny Wieser (Oregon State University)\n",
    "## 05 - The importance of CO$_2$ for saturation pressures in arcs\n",
    "\n",
    "In addition to the bread and butter volatile calculations we have shown you so far, VESIcal's flexibility is ideal for tackling more complex questions. Here we go through an overview of how VESIcal helped to assess some of the issues with applying volatile solubility models to identifying the pressures of magma storage beneath arc volcanoes.\n",
    "\n",
    "First, import the required python libraries:"
   ]
  },
  {
   "cell_type": "code",
   "execution_count": null,
   "metadata": {},
   "outputs": [],
   "source": [
    "import numpy as np\n",
    "import pandas as pd\n",
    "import matplotlib.pyplot as plt\n",
    "import VESIcal as v"
   ]
  },
  {
   "cell_type": "markdown",
   "metadata": {},
   "source": [
    "### Exercise 05.01 - Give pyMelt a magma composition\n",
    "We will use the composition of a melt inclusion from Fuego with 4 wt% H$_2$O. For now we will assume there is zero CO$_2$ in the inclusion:"
   ]
  },
  {
   "cell_type": "code",
   "execution_count": null,
   "metadata": {},
   "outputs": [],
   "source": [
    "fuego = v.Sample({'SiO2':  49.67,\n",
    "                  'TiO2':   1.17,\n",
    "                  'Al2O3': 16.50,\n",
    "                  'Fe2O3':  1.65,\n",
    "                  'FeO':    8.43,\n",
    "                  'MnO':    0.19,\n",
    "                  'MgO':    4.38,\n",
    "                  'CaO':    7.90,\n",
    "                  'Na2O':   3.37,\n",
    "                  'K2O':    0.79,\n",
    "                  'P2O5':   0.22,\n",
    "                  'CO2':    0.00,\n",
    "                  'H2O':    4.00})"
   ]
  },
  {
   "cell_type": "markdown",
   "metadata": {},
   "source": [
    "### Exercise 05.02 - Calculate a H$_2$O (only) saturation pressure\n",
    "Let's calculate the saturation pressure! This might reflect a circumstance where we have identified the H$_2$O content using plagioclase hygrometry, but we don't have an estimate for the CO$_2$ content:"
   ]
  },
  {
   "cell_type": "code",
   "execution_count": null,
   "metadata": {},
   "outputs": [],
   "source": [
    "SatP_noCO2 = v.calculate_saturation_pressure(sample=fuego, temperature=1000)\n",
    "SatP_noCO2.result"
   ]
  },
  {
   "cell_type": "markdown",
   "metadata": {},
   "source": [
    "### Exercise 05.03 - Adding in CO$_2$ after a trip to the SIMS\n",
    "Assuming we now know what the CO$_2$ content of the inclusion is, how does this affect our knowledge of the saturation pressure? Let's say we measure 1000 ppmw on the SIMS.\n",
    "\n",
    "First we can update the sample composition:"
   ]
  },
  {
   "cell_type": "code",
   "execution_count": null,
   "metadata": {},
   "outputs": [],
   "source": [
    "fuego.change_composition({'CO2': 1000/1e4})\n",
    "fuego.get_composition()"
   ]
  },
  {
   "cell_type": "markdown",
   "metadata": {},
   "source": [
    "We don't need to redefine the sample, but if you were to go back to the first calculation, it will now use the *updated* sample composition and print over the first value.\n",
    "\n",
    "Now we can repeat the calculation:"
   ]
  },
  {
   "cell_type": "code",
   "execution_count": null,
   "metadata": {},
   "outputs": [],
   "source": [
    "SatP_CO2 = v.calculate_saturation_pressure(sample=fuego, temperature=1000)\n",
    "SatP_CO2.result"
   ]
  },
  {
   "cell_type": "markdown",
   "metadata": {},
   "source": [
    "Notice the **big** difference! Is this as bad as it could get?"
   ]
  },
  {
   "cell_type": "markdown",
   "metadata": {},
   "source": [
    "### Exercise 05.04 - Adding more CO$_2$ after a trip to the Raman\n",
    "Often the CO$_2$ we see dissolved in the glass is only a fraction of the total CO$_2$ budget the melt inclusion had at entrapment. Hopefully the rest is stored in a vapour bubble within the inclusion. If we measure the CO$_2$ vapour density, and the relative volumes of the bubble and inclusion, we can add this CO$_2$ budget back in.\n",
    "\n",
    "After doing these calculations, lets say we find there is an extra 2000 ppmw present in the bubble:"
   ]
  },
  {
   "cell_type": "code",
   "execution_count": null,
   "metadata": {},
   "outputs": [],
   "source": [
    "fuego.change_composition({'CO2': 1000/1e4 + 2000/1e4})\n",
    "fuego.get_composition()"
   ]
  },
  {
   "cell_type": "markdown",
   "metadata": {},
   "source": [
    "What does this mean for the saturation pressure?"
   ]
  },
  {
   "cell_type": "code",
   "execution_count": null,
   "metadata": {},
   "outputs": [],
   "source": [
    "SatP_CO2 = v.calculate_saturation_pressure(sample=fuego, temperature=1000)\n",
    "SatP_CO2.result"
   ]
  },
  {
   "cell_type": "markdown",
   "metadata": {},
   "source": [
    "*EEEEEEK...* Time to get acquanted with the Raman..."
   ]
  },
  {
   "cell_type": "markdown",
   "metadata": {},
   "source": [
    "### Appendix\n",
    "When Penny did the calculations to assess this effect for VESIcal Part II, she used the **power of python** to automate the calculations. We didn't have you do this here because it takes some time for the computer to iterate through every calculation (but this is time you can spend doing something else!).\n",
    "\n",
    "<img src=\"https://imgs.xkcd.com/comics/compiling.png\">\n",
    "\n",
    "Cartoon from XKCD. Using python means we don't have to compile the code- but sometimes we have to wait for a while to get our results...\n",
    "\n",
    "To make this work Penny used for loops (which we introduced earlier). All of the calculations required to reproduce the figures in VESIcal II are available on github (https://github.com/PennyWieser/VESIcal_II), but to give you a preview of what this code looks like, here is the calculation for investigating the effect of adding between 0 and 5000 ppmw CO$_2$ to a fixed melt composition (Lowell Moore, Fuego):"
   ]
  },
  {
   "cell_type": "code",
   "execution_count": 17,
   "metadata": {},
   "outputs": [],
   "source": [
    "import warnings as w\n",
    "# Set up an array of CO2 contents. Here, have hand-typed to get a good spacing, could do with linspaces\n",
    "CO2=np.array([0, 0.001, 0.002, 0.003, 0.005, 0.0075, 0.01, 0.015, 0.02, 0.05, 0.1, 0.15, 0.2, 0.25, 0.3, 0.35, 0.4, 0.45, 0.5])\n",
    "# In python, your life is easiest if you set up empty containers tolater fill in\n",
    "Psat_Fuego_MagmaSat_2=np.empty(len(CO2), dtype=float)\n",
    "Psat_Fuego_Dixon_2=np.empty(len(CO2), dtype=float)\n",
    "Psat_Fuego_Shish_2=np.empty(len(CO2), dtype=float)\n",
    "Psat_Fuego_IM_H_2=np.empty(len(CO2), dtype=float)\n",
    "Psat_Fuego_IM_A_2=np.empty(len(CO2), dtype=float)\n",
    "\n",
    "# I'm just turning warnings off here as i'm likely to trigger calibration warnings\n",
    "with w.catch_warnings():\n",
    "    w.simplefilter('ignore')\n",
    "    \n",
    "    # Now, we loop through each CO2 content\n",
    "    for i in range(0, len(CO2)):\n",
    "\n",
    "\n",
    "    # EAch time through the loop, CO2 in the sample gets replaced with the CO2 from the np.array\n",
    "        Fuego =v.Sample({'SiO2': 49.67,\n",
    "     'TiO2':     1.17,\n",
    "     'Al2O3':    16.50,\n",
    "     'Fe2O3':     1.653168,\n",
    "     'FeO':       8.432,\n",
    "     'MnO': 0.185898241,\n",
    "     'MgO':      4.380435345,\n",
    "     'CaO':      7.901059264,\n",
    "     'Na2O':      3.372092032,\n",
    "     'K2O':       0.79127506,\n",
    "    'P2O5':     0.22,\n",
    "    'CO2': CO2[i],\n",
    "    'H2O': 2}, default_normalization='none')\n",
    "        # Then calculate PSat for each loop using diferent models\n",
    "        Psat_Fuego_MagmaSat_2[i]=v.calculate_saturation_pressure(sample=Fuego,  temperature=1000).result\n",
    "        Psat_Fuego_IM_H_2[i]=v.calculate_saturation_pressure(sample=Fuego, model='IaconoMarziano',  temperature=1000).result\n",
    "        Psat_Fuego_IM_A_2[i]=v.calculate_saturation_pressure(sample=Fuego, model='IaconoMarziano',  coeffs=\"anhydrous\",  temperature=1000).result\n",
    "        Psat_Fuego_Dixon_2[i]=v.calculate_saturation_pressure(sample=Fuego, model='Dixon',  temperature=1000).result\n",
    "        Psat_Fuego_Shish_2[i]=v.calculate_saturation_pressure(sample=Fuego, model='ShishkinaIdealMixing',  temperature=1000).result"
   ]
  },
  {
   "cell_type": "markdown",
   "metadata": {},
   "source": [
    "Magmasat has a resolution of 10 MPa, can cause bounciness, so we perform a polynomial fit:"
   ]
  },
  {
   "cell_type": "code",
   "execution_count": 18,
   "metadata": {},
   "outputs": [
    {
     "data": {
      "text/plain": [
       "[<matplotlib.lines.Line2D at 0x7f97e8b23e10>]"
      ]
     },
     "execution_count": 18,
     "metadata": {},
     "output_type": "execute_result"
    },
    {
     "data": {
      "image/png": "[encoded data removed]",
      "text/plain": [
       "<Figure size 432x288 with 1 Axes>"
      ]
     },
     "metadata": {
      "needs_background": "light"
     },
     "output_type": "display_data"
    }
   ],
   "source": [
    "plt.fill_between(CO2, Psat_Fuego_MagmaSat_2-10, Psat_Fuego_MagmaSat_2+10, color='grey', alpha=0.2)\n",
    "Pf_Magmasat_2 = np.poly1d(np.polyfit(CO2[0:],  Psat_Fuego_MagmaSat_2[0:], 8))\n",
    "Px_new_Magmasat_2 = CO2\n",
    "Py_new_Magmasat_2 = Pf_Magmasat_2(Px_new_Magmasat_2)\n",
    "plt.plot(Px_new_Magmasat_2, Py_new_Magmasat_2, '-r')\n",
    "plt.plot(CO2, Psat_Fuego_MagmaSat_2, '*k', markersize=4)"
   ]
  },
  {
   "cell_type": "code",
   "execution_count": 19,
   "metadata": {},
   "outputs": [
    {
     "data": {
      "text/plain": [
       "Text(0, 0.5, 'Saturation Pressure (kbar)')"
      ]
     },
     "execution_count": 19,
     "metadata": {},
     "output_type": "execute_result"
    },
    {
     "data": {
      "image/png": "[encoded data removed]",
      "text/plain": [
       "<Figure size 504x360 with 1 Axes>"
      ]
     },
     "metadata": {
      "needs_background": "light"
     },
     "output_type": "display_data"
    }
   ],
   "source": [
    "# Figure for all 3 CO2 contents\n",
    "b=1.5\n",
    "fig, (ax1) = plt.subplots(1,1, figsize=(7, 5), sharex=True) # adjust dimensions of figure here\n",
    "\n",
    "ax1.plot(Px_new_Magmasat_2, 0.001*Py_new_Magmasat_2, '-', color='grey', linewidth=b)\n",
    "ax1.plot(Px_new_Magmasat_2[0], 0.001*Py_new_Magmasat_2[0], 'ok', mfc='grey', markersize=7)\n",
    "\n",
    "ax1.plot(Px_new_Magmasat_2[-1], 0.001*Py_new_Magmasat_2[-1], 'sk', mfc='grey', markersize=7)\n",
    "\n",
    "ax1.plot(CO2, 0.001*Psat_Fuego_Shish_2, '-', color='orange', linewidth=b)\n",
    "ax1.plot(CO2[0], 0.001*Psat_Fuego_Shish_2[0], 'ok', mfc='orange', markersize=7)\n",
    "ax1.plot(CO2[-1], 0.001*Psat_Fuego_Shish_2[-1], 'sk', mfc='orange', markersize=7)\n",
    "\n",
    "\n",
    "ax1.plot(CO2, 0.001*Psat_Fuego_IM_A_2, '-', color='darkred', linewidth=b)\n",
    "ax1.plot(CO2[0], 0.001*Psat_Fuego_IM_A_2[0], 'ok', mfc='darkred', markersize=7)\n",
    "ax1.plot(CO2[-1], 0.001*Psat_Fuego_IM_A_2[-1], 'sk', mfc='darkred', markersize=7)\n",
    "\n",
    "\n",
    "ax1.plot(CO2, 0.001*Psat_Fuego_IM_H_2, '-', color='magenta', linewidth=b)\n",
    "ax1.plot(CO2[0], 0.001*Psat_Fuego_IM_H_2[0], 'ok', mfc='magenta', markersize=7)\n",
    "ax1.plot(CO2[-1], 0.001*Psat_Fuego_IM_H_2[-1], 'sk', mfc='magenta', markersize=7)\n",
    "\n",
    "\n",
    "\n",
    "ax1.plot(CO2, 0.001*Psat_Fuego_Dixon_2, '-', color='cornflowerblue', linewidth=b)\n",
    "ax1.plot(CO2[0], 0.001*Psat_Fuego_Dixon_2[0], 'ok', mfc='cornflowerblue', markersize=7)\n",
    "ax1.plot(CO2[-1], 0.001*Psat_Fuego_Dixon_2[-1], 'sk', mfc='cornflowerblue', markersize=7)\n",
    "\n",
    "# 1000 ppm ones so ontop\n",
    "star=10\n",
    "ax1.plot(Px_new_Magmasat_2[star], 0.001*Py_new_Magmasat_2[star], '*k', mfc='grey', markersize=8, lw=0.5)\n",
    "ax1.plot(CO2[star], 0.001*Psat_Fuego_Shish_2[star], '*k', mfc='orange', markersize=8, lw=0.5)\n",
    "ax1.plot(CO2[star], 0.001*Psat_Fuego_IM_A_2[star], '*k', mfc='darkred', markersize=8, lw=0.5)\n",
    "ax1.plot(CO2[star], 0.001*Psat_Fuego_IM_H_2[star], '*k', mfc='magenta', markersize=8, lw=0.5)\n",
    "ax1.plot(CO2[star], 0.001*Psat_Fuego_Dixon_2[star], '*k', mfc='cornflowerblue', markersize=8, lw=0.5)\n",
    "\n",
    "\n",
    "ax1.set_xlabel('CO$_2$ (wt%)')\n",
    "ax1.set_ylabel('Saturation Pressure (kbar)')"
   ]
  },
  {
   "cell_type": "code",
   "execution_count": null,
   "metadata": {},
   "outputs": [],
   "source": []
  }
 ],
 "metadata": {
  "kernelspec": {
   "display_name": "Python 3",
   "language": "python",
   "name": "python3"
  },
  "language_info": {
   "codemirror_mode": {
    "name": "ipython",
    "version": 3
   },
   "file_extension": ".py",
   "mimetype": "text/x-python",
   "name": "python",
   "nbconvert_exporter": "python",
   "pygments_lexer": "ipython3",
   "version": "3.7.6"
  }
 },
 "nbformat": 4,
 "nbformat_minor": 4
}
