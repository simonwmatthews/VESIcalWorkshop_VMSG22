{
 "cells": [
  {
   "cell_type": "markdown",
   "metadata": {},
   "source": [
    "# VESIcal at vVMSG 2022\n",
    "Simon Matthews (University of Iceland) & Penny Wieser (Oregon State University)\n",
    "\n",
    "## 03 - Batch Calculations and Isobars\n",
    "So far you have seen how calculations can be run for individual sample compositions. You could use a loop to run through a whole dataset of melt inclusion compositions, but VESIcal has this capability baked in already. \n",
    "\n",
    "In this notebook we will demonstrate how to do these calculations, and how to make isobar plots.\n",
    "\n",
    "First we need to import the python modules we want to use:"
   ]
  },
  {
   "cell_type": "code",
   "execution_count": null,
   "metadata": {},
   "outputs": [],
   "source": [
    "# NumPy provides tools for doing numerical calculations\n",
    "import numpy as np\n",
    "\n",
    "# VESIcal provides the tools for performing volatile solubility calculations\n",
    "import VESIcal as v\n",
    "\n",
    "# Pandas provides tools for working with large data tables\n",
    "import pandas as pd\n",
    "\n",
    "# Matplotlib provides tools for plotting data and model results\n",
    "import matplotlib.pyplot as plt"
   ]
  },
  {
   "cell_type": "markdown",
   "metadata": {},
   "source": [
    "### Exercise 03.01 - Read in a dataset\n",
    "For the purposes of the workshop we will use a melt inclusion dataset from Cassidy et al. (2015), though you could easily substitute your own. Just make sure you have properly named column headings (i.e., like those in the example file).\n",
    "\n",
    "The file is read in to VESIcal as a `BatchFile`:"
   ]
  },
  {
   "cell_type": "code",
   "execution_count": null,
   "metadata": {},
   "outputs": [],
   "source": [
    "myfile= v.BatchFile('Cassidy2015_AndesiteMI_YouTubeDemo.xlsx', \n",
    "                    sheet_name='Sheet1',  \n",
    "                    input_type='wtpercent')"
   ]
  },
  {
   "cell_type": "markdown",
   "metadata": {},
   "source": [
    "We can look at this data within the notebook, which also allows us to check that it has been imported correctly:"
   ]
  },
  {
   "cell_type": "code",
   "execution_count": null,
   "metadata": {},
   "outputs": [],
   "source": [
    "myfile.get_data()"
   ]
  },
  {
   "cell_type": "markdown",
   "metadata": {},
   "source": [
    "### Exercise 03.02 - Calculate saturation pressures using MagmaSat\n",
    "Doing the batch calculations is just as straightforward as the individual samples. As before the default option is MagmaSat. \n",
    "\n",
    "The sample composition and temperature to use is provided by the table, but we need to tell VESIcal what the temperature column is named. The calculation may take a little while:"
   ]
  },
  {
   "cell_type": "code",
   "execution_count": null,
   "metadata": {},
   "outputs": [],
   "source": [
    "SatP_MagmaSat= myfile.calculate_saturation_pressure(temperature=\"Temp\")"
   ]
  },
  {
   "cell_type": "markdown",
   "metadata": {},
   "source": [
    "We can view the results that have been stored in `SatP_MagmaSat`. You need to scroll right to find the saturation pressure and related information."
   ]
  },
  {
   "cell_type": "code",
   "execution_count": null,
   "metadata": {},
   "outputs": [],
   "source": [
    "SatP_MagmaSat"
   ]
  },
  {
   "cell_type": "markdown",
   "metadata": {},
   "source": [
    "We can also save the output to an excel file, or a csv file:"
   ]
  },
  {
   "cell_type": "code",
   "execution_count": null,
   "metadata": {},
   "outputs": [],
   "source": [
    "SatP_MagmaSat.to_excel('SatP_Cassidy_MagmaSat.xlsx')"
   ]
  },
  {
   "cell_type": "markdown",
   "metadata": {},
   "source": [
    "But we can also do some data analysis right here. For a start let's plot the saturation pressures:"
   ]
  },
  {
   "cell_type": "code",
   "execution_count": null,
   "metadata": {},
   "outputs": [],
   "source": [
    "# Tell python we are creating a figure, containing an axis\n",
    "fig, ax = plt.subplots(dpi=100)\n",
    "\n",
    "# Make a scatter plot of SiO2 vs Saturation P\n",
    "ax.scatter(SatP_MagmaSat['SiO2'], SatP_MagmaSat['SaturationP_bars_VESIcal'])\n",
    "\n",
    "# Label the axes:\n",
    "ax.set_xlabel(\"SiO$_2$ (wt%)\")\n",
    "ax.set_ylabel(\"Saturation\\nPressure (bars)\")\n",
    "\n",
    "# Show the figure\n",
    "plt.show()"
   ]
  },
  {
   "cell_type": "markdown",
   "metadata": {},
   "source": [
    "We could save this figure using a variety of formats, but pdf is convenient:"
   ]
  },
  {
   "cell_type": "code",
   "execution_count": null,
   "metadata": {},
   "outputs": [],
   "source": [
    "fig.savefig(\"MagmaSatP.pdf\")"
   ]
  },
  {
   "cell_type": "markdown",
   "metadata": {},
   "source": [
    "### Exercise 03.03 - Plotting\n",
    "Try plotting the calculated saturation pressures against a different chemical parameter. Either modify the code above, or copy and paste it into a new cell below."
   ]
  },
  {
   "cell_type": "code",
   "execution_count": null,
   "metadata": {},
   "outputs": [],
   "source": []
  },
  {
   "cell_type": "markdown",
   "metadata": {},
   "source": [
    "### Exercise 03.04 - Compare results from different models"
   ]
  },
  {
   "cell_type": "markdown",
   "metadata": {},
   "source": [
    "We can now repeat the calculation using another model, the Dixon model for example:"
   ]
  },
  {
   "cell_type": "code",
   "execution_count": null,
   "metadata": {},
   "outputs": [],
   "source": [
    "SatP_Dixon= myfile.calculate_saturation_pressure(temperature=\"Temp\",\n",
    "                                                 model='Dixon')"
   ]
  },
  {
   "cell_type": "markdown",
   "metadata": {},
   "source": [
    "Now we can plot the results against each other:"
   ]
  },
  {
   "cell_type": "code",
   "execution_count": null,
   "metadata": {},
   "outputs": [],
   "source": [
    "fig, ax = plt.subplots(dpi=100)\n",
    "\n",
    "ax.scatter(SatP_MagmaSat['SaturationP_bars_VESIcal'],\n",
    "           SatP_Dixon['SaturationP_bars_VESIcal'])\n",
    "\n",
    "# Plot a 1:1 line, but getting the axis limits, locking them in,\n",
    "# and then plotting a line between them\n",
    "ax.set_xlim(ax.get_xlim())\n",
    "# ax.set_ylim(ax.get_ylim())\n",
    "ax.plot(ax.get_xlim(), ax.get_xlim(), c='black')\n",
    "\n",
    "# Set axis labels\n",
    "ax.set_xlabel(\"MagmaSat (bars)\")\n",
    "ax.set_ylabel(\"Dixon (bars)\")\n",
    "\n",
    "plt.show()"
   ]
  },
  {
   "cell_type": "markdown",
   "metadata": {},
   "source": [
    "Where is this discrepancy coming from? Try making a plot of the discrepancy (ratio) between the saturation pressures and the SiO$_2$ content."
   ]
  },
  {
   "cell_type": "code",
   "execution_count": null,
   "metadata": {},
   "outputs": [],
   "source": []
  },
  {
   "cell_type": "markdown",
   "metadata": {},
   "source": [
    "If you have time, try repeating the comparison with a different model."
   ]
  },
  {
   "cell_type": "code",
   "execution_count": null,
   "metadata": {},
   "outputs": [],
   "source": []
  },
  {
   "cell_type": "markdown",
   "metadata": {},
   "source": [
    "### Exercise 03.05 - Calculate isobars\n",
    "Isobars are contours in CO$_2$ vs H$_2$O plots of constant pressure. VESIcal has a routine to calculate these automatically.\n",
    "\n",
    "We will do this for a single composition as it takes a while to calculate them. We can extract a single sample from the dataset we imported earlier, if we know the sample name:"
   ]
  },
  {
   "cell_type": "code",
   "execution_count": null,
   "metadata": {},
   "outputs": [],
   "source": [
    "sample = myfile.get_sample_composition('SSH4_1', asSampleClass=True)"
   ]
  },
  {
   "cell_type": "markdown",
   "metadata": {},
   "source": [
    "*Aside- in Jupyter notebooks you can view the documentation for different methods and functions by writing a ? after their name and running the cell. You can see all the different arguments you can use when calling the method, and a description of what it does*"
   ]
  },
  {
   "cell_type": "code",
   "execution_count": null,
   "metadata": {},
   "outputs": [],
   "source": [
    "myfile.get_sample_composition?"
   ]
  },
  {
   "cell_type": "markdown",
   "metadata": {},
   "source": [
    "Let's do the isobars calculation, first we have to set up how we want the calculation to be run. We will also calculate isopleths (contours of constant fluid compositions):"
   ]
  },
  {
   "cell_type": "code",
   "execution_count": null,
   "metadata": {},
   "outputs": [],
   "source": [
    "T = 1200 # degrees C\n",
    "pressures = [1000, 2000, 3000] # bars\n",
    "isopleths = [0, 0.25, 0.5, 0.75, 1.0] # Mole fractions"
   ]
  },
  {
   "cell_type": "code",
   "execution_count": null,
   "metadata": {},
   "outputs": [],
   "source": [
    "calc = v.calculate_isobars_and_isopleths(sample=sample, \n",
    "#                                          smooth_isobars=False,\n",
    "                                         temperature=T,\n",
    "                                         pressure_list=pressures,\n",
    "                                         isopleth_list=isopleths,\n",
    "                                         print_status=True)"
   ]
  },
  {
   "cell_type": "markdown",
   "metadata": {},
   "source": [
    "Extract the calculated isobars and isopleths:"
   ]
  },
  {
   "cell_type": "code",
   "execution_count": null,
   "metadata": {},
   "outputs": [],
   "source": [
    "isobars, isopleths = calc.result"
   ]
  },
  {
   "cell_type": "markdown",
   "metadata": {},
   "source": [
    "The results are stored in a table, which we can look at:"
   ]
  },
  {
   "cell_type": "code",
   "execution_count": null,
   "metadata": {},
   "outputs": [],
   "source": [
    "isobars"
   ]
  },
  {
   "cell_type": "markdown",
   "metadata": {},
   "source": [
    "Now we can plot the results:"
   ]
  },
  {
   "cell_type": "code",
   "execution_count": null,
   "metadata": {},
   "outputs": [],
   "source": [
    "fig, ax = plt.subplots()\n",
    "\n",
    "for p in isobars['Pressure'].unique():\n",
    "    ax.plot(isobars[isobars['Pressure']==p].H2O_liq,\n",
    "            isobars[isobars['Pressure']==p].CO2_liq,\n",
    "            label='{:.0f}'.format(p))\n",
    "\n",
    "for i in isopleths['XH2O_fl'].unique():\n",
    "    ax.plot(isopleths[isopleths['XH2O_fl']==i].H2O_liq,\n",
    "            isopleths[isopleths['XH2O_fl']==i].CO2_liq,\n",
    "            c='black')\n",
    "    \n",
    "ax.scatter(myfile.get_data()['H2O'],\n",
    "           myfile.get_data()['CO2'],\n",
    "           label='Melt Inclusions')\n",
    "\n",
    "ax.legend()\n",
    "\n",
    "ax.set_xlabel('H$_2$O (wt%)')\n",
    "ax.set_ylabel('CO$_2$ (wt%)')\n",
    "\n",
    "plt.show()"
   ]
  },
  {
   "cell_type": "markdown",
   "metadata": {},
   "source": [
    "But is this a reliable way of plotting data? Penny will explain (and demonstrate with a time consuming calculation!)..."
   ]
  },
  {
   "cell_type": "code",
   "execution_count": null,
   "metadata": {},
   "outputs": [],
   "source": []
  }
 ],
 "metadata": {
  "kernelspec": {
   "display_name": "Python 3",
   "language": "python",
   "name": "python3"
  },
  "language_info": {
   "codemirror_mode": {
    "name": "ipython",
    "version": 3
   },
   "file_extension": ".py",
   "mimetype": "text/x-python",
   "name": "python",
   "nbconvert_exporter": "python",
   "pygments_lexer": "ipython3",
   "version": "3.7.6"
  }
 },
 "nbformat": 4,
 "nbformat_minor": 4
}
